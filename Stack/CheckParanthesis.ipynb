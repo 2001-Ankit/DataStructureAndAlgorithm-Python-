{
 "cells": [
  {
   "cell_type": "code",
   "execution_count": 1,
   "id": "acb6ec6b",
   "metadata": {},
   "outputs": [],
   "source": [
    "from collections import deque"
   ]
  },
  {
   "cell_type": "code",
   "execution_count": 2,
   "id": "5c0ba664",
   "metadata": {},
   "outputs": [],
   "source": [
    "class Stack:\n",
    "    def __init__(self):\n",
    "        self.container = deque()\n",
    "    \n",
    "    def push(self,val):\n",
    "        return self.container.append(val)\n",
    "    \n",
    "    def pop(self):\n",
    "        return self.container.pop()\n",
    "    \n",
    "    def peek(self):\n",
    "        return self.container[-1]\n",
    "    \n",
    "    def is_empty(self):\n",
    "        return len(self.container) == 0\n",
    "    def size(self):\n",
    "        return len(self.container)\n",
    "    \n"
   ]
  },
  {
   "cell_type": "code",
   "execution_count": 3,
   "id": "59e9a89d",
   "metadata": {},
   "outputs": [],
   "source": [
    "def is_match(ch1, ch2):\n",
    "    match_dict = {\n",
    "        ')': '(',\n",
    "        ']': '[',\n",
    "        '}': '{'\n",
    "    }\n",
    "    return match_dict[ch1] == ch2"
   ]
  },
  {
   "cell_type": "code",
   "execution_count": 14,
   "id": "44deda39",
   "metadata": {},
   "outputs": [
    {
     "data": {
      "text/plain": [
       "False"
      ]
     },
     "execution_count": 14,
     "metadata": {},
     "output_type": "execute_result"
    }
   ],
   "source": [
    "def is_balanced(string):\n",
    "    s = Stack()\n",
    "    for i in string:\n",
    "        if i==\"(\" or i == \"{\" or i == \"[\":\n",
    "            s.push(i)\n",
    "        if i ==\")\"or i==\"}\"or i==\"]\":\n",
    "            if s.size()==0:\n",
    "                return False\n",
    "            if not is_match(i,s.pop()):\n",
    "                return False\n",
    "    return s.size()==0\n",
    "    \n",
    "\n",
    "        \n",
    "is_balanced(\"({a+b}))\")"
   ]
  },
  {
   "cell_type": "code",
   "execution_count": 15,
   "id": "af05ff1d",
   "metadata": {},
   "outputs": [
    {
     "name": "stdout",
     "output_type": "stream",
     "text": [
      "False\n"
     ]
    }
   ],
   "source": [
    "print(is_balanced(\"({a+b}))\"))"
   ]
  },
  {
   "cell_type": "code",
   "execution_count": 23,
   "id": "705f5d8f",
   "metadata": {},
   "outputs": [
    {
     "data": {
      "text/plain": [
       "False"
      ]
     },
     "execution_count": 23,
     "metadata": {},
     "output_type": "execute_result"
    }
   ],
   "source": [
    "is_balanced(\"))((a+b}{\")   \n"
   ]
  },
  {
   "cell_type": "code",
   "execution_count": 24,
   "id": "75773f1e",
   "metadata": {},
   "outputs": [
    {
     "data": {
      "text/plain": [
       "True"
      ]
     },
     "execution_count": 24,
     "metadata": {},
     "output_type": "execute_result"
    }
   ],
   "source": [
    "is_balanced(\"((a+b))\")   \n"
   ]
  },
  {
   "cell_type": "code",
   "execution_count": 25,
   "id": "39025d3c",
   "metadata": {},
   "outputs": [
    {
     "name": "stdout",
     "output_type": "stream",
     "text": [
      "False\n",
      "True\n"
     ]
    }
   ],
   "source": [
    "print(is_balanced(\"))\"))   \n",
    "\n",
    "print(is_balanced(\"[a+b]*(x+2y)*{gg+kk}\"))"
   ]
  },
  {
   "cell_type": "code",
   "execution_count": null,
   "id": "17f5a30d",
   "metadata": {},
   "outputs": [],
   "source": []
  }
 ],
 "metadata": {
  "kernelspec": {
   "display_name": "Python 3 (ipykernel)",
   "language": "python",
   "name": "python3"
  },
  "language_info": {
   "codemirror_mode": {
    "name": "ipython",
    "version": 3
   },
   "file_extension": ".py",
   "mimetype": "text/x-python",
   "name": "python",
   "nbconvert_exporter": "python",
   "pygments_lexer": "ipython3",
   "version": "3.10.4"
  }
 },
 "nbformat": 4,
 "nbformat_minor": 5
}
