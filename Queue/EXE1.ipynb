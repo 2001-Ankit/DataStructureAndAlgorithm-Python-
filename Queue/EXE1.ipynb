{
 "cells": [
  {
   "cell_type": "code",
   "execution_count": 9,
   "id": "acaff19b",
   "metadata": {},
   "outputs": [],
   "source": [
    "from collections import deque\n",
    "import threading"
   ]
  },
  {
   "cell_type": "code",
   "execution_count": 2,
   "id": "f05978f2",
   "metadata": {},
   "outputs": [],
   "source": [
    "class Queue:\n",
    "    def __init__(self):\n",
    "        self.buffer=deque()\n",
    "    def enqueue(self,val):\n",
    "        return self.buffer.appendleft(val)\n",
    "    def dequeue(self):\n",
    "        return self.buffer.pop()\n",
    "    def is_empty(self):\n",
    "        return len(self.buffer)==0\n",
    "    def size(self):\n",
    "        return len(self.buffer)\n",
    "    "
   ]
  },
  {
   "cell_type": "code",
   "execution_count": 3,
   "id": "61e50abc",
   "metadata": {},
   "outputs": [],
   "source": [
    "pq = Queue()"
   ]
  },
  {
   "cell_type": "code",
   "execution_count": 16,
   "id": "d4f3b37e",
   "metadata": {},
   "outputs": [
    {
     "name": "stdout",
     "output_type": "stream",
     "text": [
      "Placing order pizza\n",
      "Placing order samosa\n",
      "Serving item pizza\n",
      "Placing order pasta\n",
      "Placing order biryani\n",
      "Placing order burger\n",
      "Serving item samosa\n",
      "Serving item pasta\n",
      "Serving item biryani\n",
      "Serving item burger\n"
     ]
    },
    {
     "name": "stderr",
     "output_type": "stream",
     "text": [
      "Exception in thread Thread-9 (serve_orders):\n",
      "Traceback (most recent call last):\n",
      "  File \"C:\\Users\\Ankit Rai\\AppData\\Local\\Programs\\Python\\Python310\\lib\\threading.py\", line 1009, in _bootstrap_inner\n",
      "    self.run()\n",
      "  File \"C:\\Users\\Ankit Rai\\AppData\\Local\\Programs\\Python\\Python310\\lib\\threading.py\", line 946, in run\n",
      "    self._target(*self._args, **self._kwargs)\n",
      "  File \"C:\\Users\\Ankit Rai\\AppData\\Local\\Temp\\ipykernel_20728\\3185347121.py\", line 11, in serve_orders\n",
      "  File \"C:\\Users\\Ankit Rai\\AppData\\Local\\Temp\\ipykernel_20728\\2768971609.py\", line 7, in dequeue\n",
      "IndexError: pop from an empty deque\n"
     ]
    }
   ],
   "source": [
    "import time\n",
    "def place_order(orders):\n",
    "    for item in orders:\n",
    "        print(\"Placing order\",item)\n",
    "        pq.enqueue(item)\n",
    "        time.sleep(0.5)\n",
    "        \n",
    "def serve_orders():\n",
    "    time.sleep(1)\n",
    "    while True:\n",
    "        order = pq.dequeue()\n",
    "        print(\"Serving item\",order)\n",
    "        time.sleep(2)\n",
    "    \n",
    "# t = threading.Theard(target=func_name,args=(args))\n",
    "orders = ['pizza','samosa','pasta','biryani','burger']\n",
    "t1 = threading.Thread(target=place_order,args=(orders,))\n",
    "t2 = threading.Thread(target=serve_orders)\n",
    "t1.start()\n",
    "t2.start()\n",
    "# place_order(orders)"
   ]
  },
  {
   "cell_type": "code",
   "execution_count": null,
   "id": "11fd409b",
   "metadata": {
    "scrolled": true
   },
   "outputs": [],
   "source": []
  },
  {
   "cell_type": "code",
   "execution_count": null,
   "id": "ccb63710",
   "metadata": {},
   "outputs": [],
   "source": []
  }
 ],
 "metadata": {
  "kernelspec": {
   "display_name": "Python 3 (ipykernel)",
   "language": "python",
   "name": "python3"
  },
  "language_info": {
   "codemirror_mode": {
    "name": "ipython",
    "version": 3
   },
   "file_extension": ".py",
   "mimetype": "text/x-python",
   "name": "python",
   "nbconvert_exporter": "python",
   "pygments_lexer": "ipython3",
   "version": "3.10.4"
  }
 },
 "nbformat": 4,
 "nbformat_minor": 5
}
