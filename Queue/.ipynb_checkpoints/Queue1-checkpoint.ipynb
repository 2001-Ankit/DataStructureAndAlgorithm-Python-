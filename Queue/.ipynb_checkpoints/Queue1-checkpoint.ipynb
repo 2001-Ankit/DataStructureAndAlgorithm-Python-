{
 "cells": [
  {
   "cell_type": "code",
   "execution_count": 1,
   "id": "d3a978c6",
   "metadata": {},
   "outputs": [],
   "source": [
    "nimb_stock_price =[]"
   ]
  },
  {
   "cell_type": "code",
   "execution_count": 2,
   "id": "0019b652",
   "metadata": {},
   "outputs": [],
   "source": [
    "nimb_stock_price.insert(0,122.12)"
   ]
  },
  {
   "cell_type": "code",
   "execution_count": 3,
   "id": "a4675510",
   "metadata": {},
   "outputs": [],
   "source": [
    "nimb_stock_price.insert(0,121.12)\n"
   ]
  },
  {
   "cell_type": "code",
   "execution_count": 4,
   "id": "b7fb462f",
   "metadata": {},
   "outputs": [],
   "source": [
    "nimb_stock_price.insert(0,200.12)"
   ]
  },
  {
   "cell_type": "code",
   "execution_count": 5,
   "id": "92e7aa1b",
   "metadata": {},
   "outputs": [
    {
     "data": {
      "text/plain": [
       "122.12"
      ]
     },
     "execution_count": 5,
     "metadata": {},
     "output_type": "execute_result"
    }
   ],
   "source": [
    "nimb_stock_price.pop()"
   ]
  },
  {
   "cell_type": "code",
   "execution_count": 6,
   "id": "4b63afc7",
   "metadata": {},
   "outputs": [],
   "source": [
    "from collections import deque\n",
    "q = deque()"
   ]
  },
  {
   "cell_type": "code",
   "execution_count": 7,
   "id": "191ef330",
   "metadata": {},
   "outputs": [],
   "source": [
    "q.appendleft(5)\n",
    "q.appendleft(6)\n",
    "q.appendleft(10)"
   ]
  },
  {
   "cell_type": "code",
   "execution_count": 8,
   "id": "b37d865b",
   "metadata": {},
   "outputs": [
    {
     "data": {
      "text/plain": [
       "5"
      ]
     },
     "execution_count": 8,
     "metadata": {},
     "output_type": "execute_result"
    }
   ],
   "source": [
    "q.pop()"
   ]
  },
  {
   "cell_type": "code",
   "execution_count": 9,
   "id": "28ad8dc2",
   "metadata": {},
   "outputs": [
    {
     "data": {
      "text/plain": [
       "6"
      ]
     },
     "execution_count": 9,
     "metadata": {},
     "output_type": "execute_result"
    }
   ],
   "source": [
    "q.pop()"
   ]
  },
  {
   "cell_type": "code",
   "execution_count": 10,
   "id": "b0922afd",
   "metadata": {},
   "outputs": [
    {
     "data": {
      "text/plain": [
       "10"
      ]
     },
     "execution_count": 10,
     "metadata": {},
     "output_type": "execute_result"
    }
   ],
   "source": [
    "q.pop()"
   ]
  },
  {
   "cell_type": "code",
   "execution_count": 11,
   "id": "4d459d7a",
   "metadata": {},
   "outputs": [
    {
     "ename": "IndexError",
     "evalue": "pop from an empty deque",
     "output_type": "error",
     "traceback": [
      "\u001b[1;31m---------------------------------------------------------------------------\u001b[0m",
      "\u001b[1;31mIndexError\u001b[0m                                Traceback (most recent call last)",
      "Input \u001b[1;32mIn [11]\u001b[0m, in \u001b[0;36m<cell line: 1>\u001b[1;34m()\u001b[0m\n\u001b[1;32m----> 1\u001b[0m \u001b[43mq\u001b[49m\u001b[38;5;241;43m.\u001b[39;49m\u001b[43mpop\u001b[49m\u001b[43m(\u001b[49m\u001b[43m)\u001b[49m\n",
      "\u001b[1;31mIndexError\u001b[0m: pop from an empty deque"
     ]
    }
   ],
   "source": [
    "q.pop()"
   ]
  },
  {
   "cell_type": "code",
   "execution_count": 12,
   "id": "1e767c0a",
   "metadata": {},
   "outputs": [],
   "source": [
    "class Queue:\n",
    "    def __init__(self):\n",
    "        self.buffer = deque()\n",
    "        \n",
    "    def enqueue(self,val):\n",
    "        return self.buffer.appendleft(val)\n",
    "    \n",
    "    def dequeue(self):\n",
    "        return self.buffer.pop()\n",
    "    \n",
    "    def is_empty(self):\n",
    "        return len(self.buffer)==0\n",
    "    def size(self):\n",
    "        return len(self.buffer)"
   ]
  },
  {
   "cell_type": "code",
   "execution_count": 14,
   "id": "c8468bc2",
   "metadata": {},
   "outputs": [],
   "source": [
    "pq = Queue()\n",
    "\n",
    "pq.enqueue({\n",
    "    'company':'NIMB',\n",
    "    'date':'11:01 AM',\n",
    "    'price':145.02\n",
    "})\n",
    "pq.enqueue({\n",
    "    'company':'NIMB',\n",
    "    'date':'11:02 AM',\n",
    "    'price':148.02\n",
    "})\n",
    "pq.enqueue({\n",
    "    'company':'NIMB',\n",
    "    'date':'11:03 AM',\n",
    "    'price':146.02\n",
    "})"
   ]
  },
  {
   "cell_type": "code",
   "execution_count": 16,
   "id": "0f2ac2fa",
   "metadata": {},
   "outputs": [
    {
     "data": {
      "text/plain": [
       "{'company': 'NIMB', 'date': '11:01 AM', 'price': 145.02}"
      ]
     },
     "execution_count": 16,
     "metadata": {},
     "output_type": "execute_result"
    }
   ],
   "source": [
    "pq.dequeue()"
   ]
  },
  {
   "cell_type": "code",
   "execution_count": 17,
   "id": "2115ea9f",
   "metadata": {},
   "outputs": [
    {
     "data": {
      "text/plain": [
       "{'company': 'NIMB', 'date': '11:02 AM', 'price': 148.02}"
      ]
     },
     "execution_count": 17,
     "metadata": {},
     "output_type": "execute_result"
    }
   ],
   "source": [
    "pq.dequeue()\n"
   ]
  },
  {
   "cell_type": "code",
   "execution_count": null,
   "id": "c898ed58",
   "metadata": {},
   "outputs": [],
   "source": []
  }
 ],
 "metadata": {
  "kernelspec": {
   "display_name": "Python 3 (ipykernel)",
   "language": "python",
   "name": "python3"
  },
  "language_info": {
   "codemirror_mode": {
    "name": "ipython",
    "version": 3
   },
   "file_extension": ".py",
   "mimetype": "text/x-python",
   "name": "python",
   "nbconvert_exporter": "python",
   "pygments_lexer": "ipython3",
   "version": "3.10.4"
  }
 },
 "nbformat": 4,
 "nbformat_minor": 5
}
