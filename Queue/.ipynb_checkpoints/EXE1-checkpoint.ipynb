{
 "cells": [
  {
   "cell_type": "code",
   "execution_count": 9,
   "id": "d876d1f0",
   "metadata": {},
   "outputs": [],
   "source": [
    "from collections import deque\n",
    "import threading"
   ]
  },
  {
   "cell_type": "code",
   "execution_count": 2,
   "id": "a5390894",
   "metadata": {},
   "outputs": [],
   "source": [
    "class Queue:\n",
    "    def __init__(self):\n",
    "        self.buffer=deque()\n",
    "    def enqueue(self,val):\n",
    "        return self.buffer.appendleft(val)\n",
    "    def dequeue(self):\n",
    "        return self.buffer.pop()\n",
    "    def is_empty(self):\n",
    "        return len(self.buffer)==0\n",
    "    def size(self):\n",
    "        return len(self.buffer)\n",
    "    "
   ]
  },
  {
   "cell_type": "code",
   "execution_count": 3,
   "id": "b5a7edab",
   "metadata": {},
   "outputs": [],
   "source": [
    "pq = Queue()"
   ]
  },
  {
   "cell_type": "code",
   "execution_count": 10,
   "id": "cb93aa19",
   "metadata": {},
   "outputs": [],
   "source": [
    "import time\n",
    "def place_order(orders):\n",
    "    for item in orders:\n",
    "        pq.enqueue(item)\n",
    "        time.sleep(0.5)\n",
    "# t = threading.Theard(target=place_order)\n",
    "orders = ['pizza','samosa','pasta','biryani','burger']\n",
    "place_order(orders)"
   ]
  },
  {
   "cell_type": "code",
   "execution_count": 12,
   "id": "d58ed690",
   "metadata": {},
   "outputs": [
    {
     "data": {
      "text/plain": [
       "'pizza'"
      ]
     },
     "execution_count": 12,
     "metadata": {},
     "output_type": "execute_result"
    }
   ],
   "source": [
    "pq.dequeue()"
   ]
  },
  {
   "cell_type": "code",
   "execution_count": null,
   "id": "1d5f19cd",
   "metadata": {},
   "outputs": [],
   "source": []
  }
 ],
 "metadata": {
  "kernelspec": {
   "display_name": "Python 3 (ipykernel)",
   "language": "python",
   "name": "python3"
  },
  "language_info": {
   "codemirror_mode": {
    "name": "ipython",
    "version": 3
   },
   "file_extension": ".py",
   "mimetype": "text/x-python",
   "name": "python",
   "nbconvert_exporter": "python",
   "pygments_lexer": "ipython3",
   "version": "3.10.4"
  }
 },
 "nbformat": 4,
 "nbformat_minor": 5
}
